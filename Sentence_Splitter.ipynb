{
 "cells": [
  {
   "cell_type": "code",
   "execution_count": 2,
   "metadata": {
    "collapsed": true
   },
   "outputs": [],
   "source": [
    "import spacy\n",
    "import string\n",
    "import re\n",
    "import nltk.data \n",
    "import nltk.tokenize.punkt \n",
    "import pickle \n",
    "import pprint"
   ]
  },
  {
   "cell_type": "code",
   "execution_count": 3,
   "metadata": {
    "collapsed": true
   },
   "outputs": [],
   "source": [
    "nlp = spacy.load('en')"
   ]
  },
  {
   "cell_type": "code",
   "execution_count": 4,
   "metadata": {
    "collapsed": true
   },
   "outputs": [
    {
     "ename": "FileNotFoundError",
     "evalue": "[Errno 2] No such file or directory: 'dataset/genia-pos/GENIAtrain.pos'",
     "output_type": "error",
     "traceback": [
      "\u001b[0;31m---------------------------------------------------------------------------\u001b[0m",
      "\u001b[0;31mFileNotFoundError\u001b[0m                         Traceback (most recent call last)",
      "\u001b[0;32m<ipython-input-4-8c4cc06dd982>\u001b[0m in \u001b[0;36m<module>\u001b[0;34m()\u001b[0m\n\u001b[0;32m----> 1\u001b[0;31m \u001b[0;32mwith\u001b[0m \u001b[0mopen\u001b[0m\u001b[0;34m(\u001b[0m\u001b[0;34m'dataset/genia-pos/GENIAtrain.pos'\u001b[0m\u001b[0;34m,\u001b[0m \u001b[0;34m'r'\u001b[0m\u001b[0;34m)\u001b[0m \u001b[0;32mas\u001b[0m \u001b[0mf\u001b[0m\u001b[0;34m:\u001b[0m\u001b[0;34m\u001b[0m\u001b[0m\n\u001b[0m\u001b[1;32m      2\u001b[0m     \u001b[0mtrain_contents\u001b[0m \u001b[0;34m=\u001b[0m \u001b[0mf\u001b[0m\u001b[0;34m.\u001b[0m\u001b[0mreadlines\u001b[0m\u001b[0;34m(\u001b[0m\u001b[0;34m)\u001b[0m\u001b[0;34m\u001b[0m\u001b[0m\n\u001b[1;32m      3\u001b[0m \u001b[0;32mwith\u001b[0m \u001b[0mopen\u001b[0m\u001b[0;34m(\u001b[0m\u001b[0;34m'dataset/genia-pos/GENIAtest.pos'\u001b[0m\u001b[0;34m,\u001b[0m \u001b[0;34m'r'\u001b[0m\u001b[0;34m)\u001b[0m \u001b[0;32mas\u001b[0m \u001b[0mf\u001b[0m\u001b[0;34m:\u001b[0m\u001b[0;34m\u001b[0m\u001b[0m\n\u001b[1;32m      4\u001b[0m     \u001b[0mtest_contents\u001b[0m \u001b[0;34m=\u001b[0m \u001b[0mf\u001b[0m\u001b[0;34m.\u001b[0m\u001b[0mreadlines\u001b[0m\u001b[0;34m(\u001b[0m\u001b[0;34m)\u001b[0m\u001b[0;34m\u001b[0m\u001b[0m\n",
      "\u001b[0;31mFileNotFoundError\u001b[0m: [Errno 2] No such file or directory: 'dataset/genia-pos/GENIAtrain.pos'"
     ]
    }
   ],
   "source": [
    "with open('dataset/genia-pos/GENIAtrain.pos', 'r') as f:\n",
    "    train_contents = f.readlines()\n",
    "with open('dataset/genia-pos/GENIAtest.pos', 'r') as f:\n",
    "    test_contents = f.readlines()"
   ]
  },
  {
   "cell_type": "markdown",
   "metadata": {},
   "source": [
    "## Iterate over the abstracts and yiels list of sentences for each abstract"
   ]
  },
  {
   "cell_type": "code",
   "execution_count": 79,
   "metadata": {},
   "outputs": [],
   "source": [
    "abstracts = []\n",
    "sents = []\n",
    "def iter_abs(contents):\n",
    "    sents = []\n",
    "    for line in contents:\n",
    "        parts = line.split('-/:')\n",
    "        if parts[0] == 'TI/LS ':\n",
    "            continue\n",
    "        if len(parts) == 2:\n",
    "            sent_with_ann = parts[1].strip()\n",
    "        else:\n",
    "            sent_with_ann = parts[0].strip()\n",
    "        tokens_with_ann = sent_with_ann.split()\n",
    "        tokens_without_ann = [x.split('/')[0] for x in tokens_with_ann]\n",
    "        sent = ''.join([('' if c in string.punctuation else ' ')+c for c in tokens_without_ann]).strip()\n",
    "        if re.match(r'[\\d]+',sent) and len(sents) != 0:\n",
    "            yield sents\n",
    "            sents = []\n",
    "        sents.append(sent)"
   ]
  },
  {
   "cell_type": "markdown",
   "metadata": {},
   "source": [
    "## Splitter"
   ]
  },
  {
   "cell_type": "code",
   "execution_count": 80,
   "metadata": {},
   "outputs": [],
   "source": [
    "def splitter(func, contents, trained=False, debug=False, print_wrong=False):\n",
    "    correct = 0\n",
    "    total = 0\n",
    "    for abs_i, abstract in enumerate(iter_abs(contents)):\n",
    "        text = ' '.join(abstract[1:])\n",
    "        \n",
    "        if func == 'spacy':\n",
    "            sents = nlp(text).sents\n",
    "        elif func == 'nltk':\n",
    "            if trained:\n",
    "                nltk_sentence_detector = nltk.data.load('tokenizers/punkt/genia.pickle')\n",
    "            else:\n",
    "                nltk_sentence_detector = nltk.data.load('tokenizers/punkt/english.pickle')\n",
    "            sents = nltk_sentence_detector.tokenize(text)\n",
    "            if debug:\n",
    "                for decision in tokenizer.debug_decisions(text):\n",
    "                    print(decision)\n",
    "                    print ('=' * 30)\n",
    "        else:\n",
    "            print('Not supported splitter')\n",
    "            return -1\n",
    "        \n",
    "        for i, sent in enumerate(sents):\n",
    "            if func == 'spacy':\n",
    "                sent_text = sent.text\n",
    "            else:\n",
    "                sent_text = sent\n",
    "            if i < len(abstract) - 1:\n",
    "                if sent_text == abstract[i+1]:\n",
    "                    correct += 1\n",
    "                    total += 1\n",
    "                else:\n",
    "                    if print_wrong:\n",
    "                        print('PREDICTED: {}'.format(sent_text))\n",
    "                        print('TRUE: {}\\n'.format(abstract[i+1]))\n",
    "                    total += 1\n",
    "                    \n",
    "    return correct, total"
   ]
  },
  {
   "cell_type": "code",
   "execution_count": 81,
   "metadata": {},
   "outputs": [
    {
     "name": "stdout",
     "output_type": "stream",
     "text": [
      "Training accuracy: 88.63886595100468%\n",
      "Test accuracy: 84.25449871465295%\n"
     ]
    }
   ],
   "source": [
    "correct_train, total_train = splitter('spacy', train_contents)\n",
    "correct_test, total_test = splitter('spacy', test_contents)\n",
    "print('Training accuracy: {}%'.format(correct_train/total_train*100))\n",
    "print('Test accuracy: {}%'.format(correct_test/total_test*100))"
   ]
  },
  {
   "cell_type": "code",
   "execution_count": 82,
   "metadata": {},
   "outputs": [
    {
     "name": "stdout",
     "output_type": "stream",
     "text": [
      "Training accuracy: 94.777130470126%\n",
      "Test accuracy: 89.96188055908515%\n"
     ]
    }
   ],
   "source": [
    "correct_train, total_train = splitter('nltk', train_contents)\n",
    "correct_test, total_test = splitter('nltk', test_contents)\n",
    "print('Training accuracy: {}%'.format(correct_train/total_train*100))\n",
    "print('Test accuracy: {}%'.format(correct_test/total_test*100))"
   ]
  },
  {
   "cell_type": "markdown",
   "metadata": {},
   "source": [
    "## Train punkt"
   ]
  },
  {
   "cell_type": "code",
   "execution_count": 51,
   "metadata": {},
   "outputs": [
    {
     "name": "stdout",
     "output_type": "stream",
     "text": [
      "30918\n"
     ]
    }
   ],
   "source": [
    "tokenizer = nltk.tokenize.punkt.PunktSentenceTokenizer() \n",
    "\n",
    "# Training text\n",
    "abs_content = []\n",
    "with open('dataset/pubmed/abstract.txt') as f:\n",
    "    for i, line in enumerate(f):\n",
    "        abs_content.append(line[24:-16])\n",
    "train_text = '\\n'.join(abs_content)\n",
    "\n",
    "# Train tokenizer \n",
    "tokenizer.train(train_text) \n",
    "\n",
    "with open(\"/home/rohit/nltk_data/tokenizers/punkt/PY3/genia.pickle\",\"wb\") as f: \n",
    "    pickle.dump(tokenizer, f) "
   ]
  },
  {
   "cell_type": "code",
   "execution_count": 88,
   "metadata": {},
   "outputs": [
    {
     "name": "stdout",
     "output_type": "stream",
     "text": [
      "Training accuracy: 97.10027648526535%\n",
      "Test accuracy: 93.5969868173258%\n"
     ]
    }
   ],
   "source": [
    "correct_train, total_train = splitter('nltk', train_contents, trained=True, print_wrong=False)\n",
    "correct_test, total_test = splitter('nltk', test_contents, trained=True, print_wrong=False)\n",
    "print('Training accuracy: {}%'.format(correct_train/total_train*100))\n",
    "print('Test accuracy: {}%'.format(correct_test/total_test*100))"
   ]
  },
  {
   "cell_type": "code",
   "execution_count": null,
   "metadata": {},
   "outputs": [],
   "source": []
  }
 ],
 "metadata": {
  "kernelspec": {
   "display_name": "Python 3",
   "language": "python",
   "name": "python3"
  },
  "language_info": {
   "codemirror_mode": {
    "name": "ipython",
    "version": 3
   },
   "file_extension": ".py",
   "mimetype": "text/x-python",
   "name": "python",
   "nbconvert_exporter": "python",
   "pygments_lexer": "ipython3",
   "version": "3.6.3"
  }
 },
 "nbformat": 4,
 "nbformat_minor": 2
}
